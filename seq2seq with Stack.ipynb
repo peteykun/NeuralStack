{
 "cells": [
  {
   "cell_type": "code",
   "execution_count": 1,
   "metadata": {
    "collapsed": true
   },
   "outputs": [],
   "source": [
    "%matplotlib inline"
   ]
  },
  {
   "cell_type": "code",
   "execution_count": 2,
   "metadata": {
    "collapsed": true
   },
   "outputs": [],
   "source": [
    "import tensorflow as tf\n",
    "import numpy as np\n",
    "import matplotlib.pyplot as plt"
   ]
  },
  {
   "cell_type": "code",
   "execution_count": 3,
   "metadata": {
    "collapsed": true
   },
   "outputs": [],
   "source": [
    "# Embedding size\n",
    "m = 16\n",
    "\n",
    "# Hidden size\n",
    "hidden_size = 32\n",
    "\n",
    "# Stack initialized?\n",
    "init = False\n",
    "\n",
    "# RNN vars\n",
    "max_length  = 100\n",
    "vocab_size  = 10         # Input vocabulary\n",
    "in_seq_length  = 20\n",
    "out_seq_length  = 20\n",
    "batch_size  = 32"
   ]
  },
  {
   "cell_type": "code",
   "execution_count": 4,
   "metadata": {
    "collapsed": true
   },
   "outputs": [],
   "source": [
    "gpu_options = tf.GPUOptions(per_process_gpu_memory_fraction=0.2)\n",
    "sess = tf.Session(config=tf.ConfigProto(gpu_options=gpu_options))"
   ]
  },
  {
   "cell_type": "code",
   "execution_count": 5,
   "metadata": {
    "collapsed": true
   },
   "outputs": [],
   "source": [
    "s = None\n",
    "V = None"
   ]
  },
  {
   "cell_type": "code",
   "execution_count": 6,
   "metadata": {
    "collapsed": true
   },
   "outputs": [],
   "source": [
    "# Pop operation helpers\n",
    "def check(stack, strengths, remaining, read, idx):\n",
    "    # Bottom of stack\n",
    "    return idx >= 0 #tf.logical_and(idx >= 1, remaining != 0)\n",
    "\n",
    "def update(stack, strengths, remaining, read, idx):\n",
    "    # Amount we can use at this step\n",
    "    this_qty = tf.minimum(remaining, strengths[:,:,idx:idx+1])\n",
    "\n",
    "    # Update read value\n",
    "    old_read = read\n",
    "    read = tf.reshape(read + tf.reshape(this_qty * V[:,:,idx:idx+1], tf.shape(read)), tf.shape(read))  # for shape constraints\n",
    "\n",
    "    # Update remaining strength\n",
    "    remaining = tf.reshape(remaining - this_qty, tf.shape(remaining))\n",
    "\n",
    "    # Update strengths\n",
    "    before = strengths[:,:,:idx]\n",
    "    this   = tf.reshape(tf.sub(strengths[:,:,idx:idx+1], this_qty), (-1, 1, 1))\n",
    "    after  = strengths[:,:,idx+1:]\n",
    "\n",
    "    strengths = tf.reshape(tf.concat(2, [before, this, after]), tf.shape(strengths), name=\"strength_cat\")\n",
    "\n",
    "    # Update index\n",
    "    idx = idx - 1\n",
    "\n",
    "    return (stack, strengths, remaining, read, idx)"
   ]
  },
  {
   "cell_type": "code",
   "execution_count": 7,
   "metadata": {
    "collapsed": true
   },
   "outputs": [],
   "source": [
    "def stack_update(d, u, v):\n",
    "    '''\n",
    "    Performs an update to the neural stack.\n",
    "    \n",
    "    Args:\n",
    "      d: Push probability.\n",
    "      u: Pop probability.\n",
    "      v: Push value.\n",
    "    \n",
    "    Returns:\n",
    "      r: The value read from the stack.\n",
    "    '''\n",
    "    global s, V, m, init\n",
    "    \n",
    "    # Change shapes\n",
    "    d = tf.expand_dims(d, -1)\n",
    "    u = tf.expand_dims(u, -1)\n",
    "    v = tf.expand_dims(v, -1)\n",
    "    \n",
    "    # Infer batch size\n",
    "    batch_size = tf.shape(d)[0]\n",
    "    \n",
    "    if init:\n",
    "        # Infer stack size\n",
    "        stack_size = tf.shape(V)[2]\n",
    "        \n",
    "        # Perform initializations\n",
    "        read0     = tf.zeros((batch_size, m))      # Read value\n",
    "        idx0      = stack_size - 1                  # Index into the stack\n",
    "        \n",
    "        initialization = (V, s, u, read0, idx0)\n",
    "        pop_operation = tf.while_loop(check, update, initialization)\n",
    "        \n",
    "        # Update strengths and perform read\n",
    "        s = pop_operation[1]\n",
    "        r = pop_operation[3]\n",
    "        \n",
    "        # Perform push\n",
    "        V = tf.concat(2, [V, v])\n",
    "        s = tf.concat(2, [s, d])\n",
    "        \n",
    "    else:\n",
    "        r = tf.zeros((batch_size, m), dtype=np.float32)\n",
    "        init = True\n",
    "        \n",
    "        # Initialize stack\n",
    "        V = v\n",
    "        s = d\n",
    "    \n",
    "    return r"
   ]
  },
  {
   "cell_type": "code",
   "execution_count": 8,
   "metadata": {
    "collapsed": true
   },
   "outputs": [],
   "source": [
    "def one_hotify(vector, output_vocabulary_size):\n",
    "    # Create the result vector\n",
    "    vector_one_hot = np.zeros(list(vector.shape) + [output_vocabulary_size])\n",
    "    \n",
    "    # Use fancy indexing to activate positions\n",
    "    vector_one_hot[list(np.indices(vector.shape)) + [vector]] = 1\n",
    "    \n",
    "    return vector_one_hot"
   ]
  },
  {
   "cell_type": "code",
   "execution_count": 9,
   "metadata": {
    "collapsed": false
   },
   "outputs": [],
   "source": [
    "inputs = [tf.placeholder(tf.int32, shape=(batch_size,), name=\"inp%i\" % t) for t in range(in_seq_length)]\n",
    "labels = [tf.placeholder(tf.int32, shape=(batch_size,), name=\"labels%i\" % t) for t in range(out_seq_length)]\n",
    "weights = [tf.ones_like(label, dtype=tf.float32) for label in labels]"
   ]
  },
  {
   "cell_type": "code",
   "execution_count": 10,
   "metadata": {
    "collapsed": true
   },
   "outputs": [],
   "source": [
    "one_hot_inputs = [tf.one_hot(input_, vocab_size + 1) for input_ in inputs]"
   ]
  },
  {
   "cell_type": "code",
   "execution_count": 11,
   "metadata": {
    "collapsed": false
   },
   "outputs": [],
   "source": [
    "# For padding the input to get an output\n",
    "input_padding = [tf.constant(one_hotify(np.array([vocab_size] * batch_size), vocab_size + 1), dtype=tf.float32, name=\"pad%i\" % t) for t in range(out_seq_length)]"
   ]
  },
  {
   "cell_type": "code",
   "execution_count": 12,
   "metadata": {
    "collapsed": false
   },
   "outputs": [],
   "source": [
    "cell = tf.nn.rnn_cell.GRUCell(hidden_size)\n",
    "state = cell.zero_state(batch_size, tf.float32)\n",
    "outputs = []"
   ]
  },
  {
   "cell_type": "code",
   "execution_count": 13,
   "metadata": {
    "collapsed": false
   },
   "outputs": [],
   "source": [
    "# For getting the push probability\n",
    "W_d = tf.Variable(tf.random_normal((hidden_size, 1), stddev=0.01))\n",
    "b_d = tf.Variable(np.array([-1]), dtype=tf.float32)\n",
    "\n",
    "# For getting the pop probability\n",
    "W_u = tf.Variable(tf.random_normal((hidden_size, 1), stddev=0.01))\n",
    "b_u = tf.Variable(np.array([-1]), dtype=tf.float32)\n",
    "\n",
    "# For getting the value to be pushed\n",
    "W_v = tf.Variable(tf.random_normal((hidden_size, m), stddev=0.01))\n",
    "b_v = tf.Variable(np.zeros((m,)), dtype=tf.float32)\n",
    "\n",
    "# For getting the output produced\n",
    "W_o = tf.Variable(tf.random_normal((hidden_size, vocab_size), stddev=0.01))\n",
    "b_o = tf.Variable(np.zeros((vocab_size,)), dtype=tf.float32)"
   ]
  },
  {
   "cell_type": "code",
   "execution_count": 14,
   "metadata": {
    "collapsed": false
   },
   "outputs": [],
   "source": [
    "# Initialize first read to all 0's\n",
    "r_t = tf.zeros((batch_size, m))\n",
    "d_log = []\n",
    "u_log = []\n",
    "v_log = []\n",
    "\n",
    "with tf.variable_scope('rnn_unfolding') as varscope:\n",
    "    for input_ in one_hot_inputs + input_padding:\n",
    "        combined_input = tf.concat(1, [input_, r_t])\n",
    "        output, state  = cell(combined_input, state)\n",
    "        \n",
    "        # Calculate d, u, v\n",
    "        d_t = tf.sigmoid(tf.matmul(output, W_d) + b_d)\n",
    "        u_t = tf.sigmoid(tf.matmul(output, W_u) + b_u)\n",
    "        v_t = tf.tanh(tf.matmul(output, W_v) + b_v)\n",
    "        o_t = tf.tanh(tf.matmul(output, W_o) + b_o)\n",
    "        \n",
    "        d_log.append(d_t)\n",
    "        u_log.append(u_t)\n",
    "        v_log.append(v_t)\n",
    "        \n",
    "        # Perform stack operation\n",
    "        r_t = stack_update(d_t, u_t, v_t)\n",
    "        \n",
    "        if input_ in input_padding:\n",
    "            outputs.append(o_t)\n",
    "        \n",
    "        varscope.reuse_variables()"
   ]
  },
  {
   "cell_type": "code",
   "execution_count": 15,
   "metadata": {
    "collapsed": false
   },
   "outputs": [],
   "source": [
    "# Loss\n",
    "loss = tf.nn.seq2seq.sequence_loss(outputs, labels, weights, vocab_size)"
   ]
  },
  {
   "cell_type": "code",
   "execution_count": 16,
   "metadata": {
    "collapsed": false
   },
   "outputs": [],
   "source": [
    "# Predictions\n",
    "predictions = [tf.cast(tf.argmax(output_t, 1), tf.int32) for output_t in outputs]"
   ]
  },
  {
   "cell_type": "code",
   "execution_count": 17,
   "metadata": {
    "collapsed": false
   },
   "outputs": [],
   "source": [
    "# Accuracy\n",
    "accuracy_numerator = tf.add_n([tf.reduce_sum(tf.cast(tf.equal(pred_t, label_t), tf.float32)) for (pred_t, label_t) in zip(predictions, labels)])\n",
    "accuracy_denominator = tf.add_n([tf.reduce_prod(tf.cast(tf.shape(label_t), tf.float32)) for label_t in labels])\n",
    "accuracy = accuracy_numerator/accuracy_denominator"
   ]
  },
  {
   "cell_type": "code",
   "execution_count": 18,
   "metadata": {
    "collapsed": false
   },
   "outputs": [],
   "source": [
    "# Optimizer\n",
    "train_op = tf.train.AdamOptimizer().minimize(loss)"
   ]
  },
  {
   "cell_type": "code",
   "execution_count": 19,
   "metadata": {
    "collapsed": false
   },
   "outputs": [],
   "source": [
    "saver = tf.train.Saver()"
   ]
  },
  {
   "cell_type": "code",
   "execution_count": 20,
   "metadata": {
    "collapsed": false
   },
   "outputs": [],
   "source": [
    "# Initialize\n",
    "# sess.run(tf.initialize_all_variables())\n",
    "\n",
    "# Load\n",
    "saver.restore(sess, 'checkpoints/seq2seq')"
   ]
  },
  {
   "cell_type": "code",
   "execution_count": 21,
   "metadata": {
    "collapsed": false,
    "scrolled": true
   },
   "outputs": [],
   "source": [
    "# Train\n",
    "# losses     = []\n",
    "\n",
    "# for iter_ in range(2 * 10 ** 4):\n",
    "#     # Generate samples randomly\n",
    "#     x_   = np.random.randint(0, vocab_size, (batch_size, in_seq_length))\n",
    "#     y_   = x_[:,::-1]\n",
    "    \n",
    "#     # Calculate loss and backprop\n",
    "#     feed_dict = {inputs[t]: x_[:,t] for t in range(in_seq_length)}\n",
    "#     feed_dict.update({labels[t]: y_[:,t] for t in range(out_seq_length)})\n",
    "#     loss_t, acc_t, _ = sess.run((loss, accuracy, train_op), feed_dict)\n",
    "    \n",
    "#     losses.append(loss_t)\n",
    "    \n",
    "#     if iter_ % 10 == 0 and iter_ > 0:\n",
    "#         print 'Iteration: %5d Loss: %3.4f Accuracy: %3d%%' % (iter_, loss_t, acc_t * 100)"
   ]
  },
  {
   "cell_type": "code",
   "execution_count": 22,
   "metadata": {
    "collapsed": false
   },
   "outputs": [],
   "source": [
    "x_foo = np.random.randint(0, vocab_size, (batch_size, in_seq_length))\n",
    "feed_dict_foo = {inputs[t]: x_foo[:,t] for t in range(in_seq_length)}\n",
    "\n",
    "u_foo = sess.run(u_log, feed_dict_foo)\n",
    "d_foo = sess.run(d_log, feed_dict_foo)\n",
    "V_foo = sess.run(V, feed_dict_foo)"
   ]
  },
  {
   "cell_type": "code",
   "execution_count": 23,
   "metadata": {
    "collapsed": false
   },
   "outputs": [
    {
     "data": {
      "text/plain": [
       "(40, 32, 1)"
      ]
     },
     "execution_count": 23,
     "metadata": {},
     "output_type": "execute_result"
    }
   ],
   "source": [
    "np.shape(u_foo)"
   ]
  },
  {
   "cell_type": "code",
   "execution_count": 24,
   "metadata": {
    "collapsed": false
   },
   "outputs": [
    {
     "data": {
      "text/plain": [
       "<matplotlib.collections.PathCollection at 0x7fb0dfa34490>"
      ]
     },
     "execution_count": 24,
     "metadata": {},
     "output_type": "execute_result"
    },
    {
     "data": {
      "image/png": "[encoded data removed]",
      "text/plain": [
       "<matplotlib.figure.Figure at 0x7fb0df9ac850>"
      ]
     },
     "metadata": {},
     "output_type": "display_data"
    }
   ],
   "source": [
    "plt.scatter(range(1, 41), np.array(u_foo)[:,0,0])"
   ]
  },
  {
   "cell_type": "code",
   "execution_count": 25,
   "metadata": {
    "collapsed": false
   },
   "outputs": [
    {
     "data": {
      "text/plain": [
       "<matplotlib.collections.PathCollection at 0x7fb0df9ac910>"
      ]
     },
     "execution_count": 25,
     "metadata": {},
     "output_type": "execute_result"
    },
    {
     "data": {
      "image/png": "[encoded data removed]",
      "text/plain": [
       "<matplotlib.figure.Figure at 0x7fb0df74c850>"
      ]
     },
     "metadata": {},
     "output_type": "display_data"
    }
   ],
   "source": [
    "plt.scatter(range(1, 41), np.array(d_foo)[:,0,0])"
   ]
  },
  {
   "cell_type": "code",
   "execution_count": 26,
   "metadata": {
    "collapsed": false
   },
   "outputs": [],
   "source": [
    "# saver.save(sess, 'checkpoints/seq2seq')"
   ]
  }
 ],
 "metadata": {
  "kernelspec": {
   "display_name": "Python 2",
   "language": "python",
   "name": "python2"
  },
  "language_info": {
   "codemirror_mode": {
    "name": "ipython",
    "version": 2
   },
   "file_extension": ".py",
   "mimetype": "text/x-python",
   "name": "python",
   "nbconvert_exporter": "python",
   "pygments_lexer": "ipython2",
   "version": "2.7.12"
  }
 },
 "nbformat": 4,
 "nbformat_minor": 1
}
