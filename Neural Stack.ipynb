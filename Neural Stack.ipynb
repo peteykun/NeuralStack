{
 "cells": [
  {
   "cell_type": "code",
   "execution_count": 1,
   "metadata": {
    "collapsed": true
   },
   "outputs": [],
   "source": [
    "import tensorflow as tf\n",
    "import numpy as np"
   ]
  },
  {
   "cell_type": "code",
   "execution_count": 2,
   "metadata": {
    "collapsed": true
   },
   "outputs": [],
   "source": [
    "# Time steps\n",
    "T = 20\n",
    "\n",
    "# Embedding size\n",
    "m = 64\n",
    "\n",
    "# Hidden size\n",
    "hidden_size = 128\n",
    "\n",
    "# Stack initialized?\n",
    "init = False"
   ]
  },
  {
   "cell_type": "code",
   "execution_count": 3,
   "metadata": {
    "collapsed": true
   },
   "outputs": [],
   "source": [
    "gpu_options = tf.GPUOptions(per_process_gpu_memory_fraction=0.2)\n",
    "sess = tf.Session(config=tf.ConfigProto(gpu_options=gpu_options))"
   ]
  },
  {
   "cell_type": "code",
   "execution_count": 4,
   "metadata": {
    "collapsed": false
   },
   "outputs": [],
   "source": [
    "s = tf.constant([], shape=(1,0), dtype=tf.float32, name='Strengths')\n",
    "V = tf.constant([], shape=(m,0), dtype=tf.float32, name='Stack')"
   ]
  },
  {
   "cell_type": "code",
   "execution_count": 5,
   "metadata": {
    "collapsed": false
   },
   "outputs": [],
   "source": [
    "def stack_update(d, u, v, sess):\n",
    "    '''\n",
    "    Performs an update to the neural stack.\n",
    "    \n",
    "    Args:\n",
    "      d: Push probability.\n",
    "      u: Pop probability.\n",
    "      v: Push value.\n",
    "    \n",
    "    Returns:\n",
    "      r: The value read from the stack.\n",
    "    '''\n",
    "    global s, V, m, init\n",
    "    \n",
    "    if init:\n",
    "        # Pop operation\n",
    "        read0     = tf.zeros_like(V[:,0])   # Read value\n",
    "        idx0      = tf.shape(V)[1] - 1      # Index into the stack\n",
    "        rem0      = tf.constant(u)          # Remaining strength\n",
    "\n",
    "        initialization = (V, s, rem0, read0, idx0)\n",
    "\n",
    "        def check(stack, strengths, remaining, read, idx):\n",
    "            # Bottom of stack\n",
    "            return idx >= 0 #tf.logical_and(idx >= 1, remaining != 0)\n",
    "\n",
    "        def update(stack, strengths, remaining, read, idx):\n",
    "            # Amount we can use at this step\n",
    "            this_qty = tf.minimum(remaining, strengths[:,idx])\n",
    "\n",
    "            # Update read value\n",
    "            read = tf.reshape(read + this_qty * V[:,idx], tf.shape(read))  # for shape constraints\n",
    "\n",
    "            # Update remaining strength\n",
    "            remaining = tf.reshape(remaining - this_qty, tf.shape(remaining))\n",
    "\n",
    "            # Update strengths\n",
    "            before = strengths[:,:idx]\n",
    "            this   = [tf.sub(strengths[:,idx], this_qty)]\n",
    "            after  = strengths[:,idx+1:]\n",
    "\n",
    "            strengths = tf.reshape(tf.concat(1, [before, this, after]), tf.shape(strengths))\n",
    "\n",
    "            # Update index\n",
    "            idx = idx - 1\n",
    "\n",
    "            return (stack, strengths, remaining, read, idx)\n",
    "\n",
    "        result = tf.while_loop(check, update, initialization)\n",
    "\n",
    "        # Update strengths and perform read\n",
    "        _, s, _, r, _ = sess.run(result)\n",
    "        \n",
    "    else:\n",
    "        r = np.zeros((1, m), dtype=np.float32)\n",
    "        init = True\n",
    "    \n",
    "    # Perform push\n",
    "    V = tf.concat(1, [V, tf.reshape(tf.constant(v, dtype=tf.float32), (m, 1))])\n",
    "    s = tf.concat(1, [s, tf.reshape(tf.constant(d, dtype=tf.float32), (1, 1))])\n",
    "    \n",
    "    return r"
   ]
  },
  {
   "cell_type": "code",
   "execution_count": 6,
   "metadata": {
    "collapsed": false
   },
   "outputs": [
    {
     "name": "stdout",
     "output_type": "stream",
     "text": [
      "[[ 0.  0.  0.  0.  0.  0.  0.  0.  0.  0.  0.  0.  0.  0.  0.  0.  0.  0.\n",
      "   0.  0.  0.  0.  0.  0.  0.  0.  0.  0.  0.  0.  0.  0.  0.  0.  0.  0.\n",
      "   0.  0.  0.  0.  0.  0.  0.  0.  0.  0.  0.  0.  0.  0.  0.  0.  0.  0.\n",
      "   0.  0.  0.  0.  0.  0.  0.  0.  0.  0.]]\n",
      "\n",
      "[ 1.  0.  0.  0.  0.  0.  0.  0.  0.  0.  0.  0.  0.  0.  0.  0.  0.  0.\n",
      "  0.  0.  0.  0.  0.  0.  0.  0.  0.  0.  0.  0.  0.  0.  0.  0.  0.  0.\n",
      "  0.  0.  0.  0.  0.  0.  0.  0.  0.  0.  0.  0.  0.  0.  0.  0.  0.  0.\n",
      "  0.  0.  0.  0.  0.  0.  0.  0.  0.  0.]\n",
      "\n",
      "[ 0.  1.  0.  0.  0.  0.  0.  0.  0.  0.  0.  0.  0.  0.  0.  0.  0.  0.\n",
      "  0.  0.  0.  0.  0.  0.  0.  0.  0.  0.  0.  0.  0.  0.  0.  0.  0.  0.\n",
      "  0.  0.  0.  0.  0.  0.  0.  0.  0.  0.  0.  0.  0.  0.  0.  0.  0.  0.\n",
      "  0.  0.  0.  0.  0.  0.  0.  0.  0.  0.]\n",
      "\n",
      "[ 0.  0.  1.  0.  0.  0.  0.  0.  0.  0.  0.  0.  0.  0.  0.  0.  0.  0.\n",
      "  0.  0.  0.  0.  0.  0.  0.  0.  0.  0.  0.  0.  0.  0.  0.  0.  0.  0.\n",
      "  0.  0.  0.  0.  0.  0.  0.  0.  0.  0.  0.  0.  0.  0.  0.  0.  0.  0.\n",
      "  0.  0.  0.  0.  0.  0.  0.  0.  0.  0.]\n",
      "\n",
      "[ 0.  0.  0.  1.  0.  0.  0.  0.  0.  0.  0.  0.  0.  0.  0.  0.  0.  0.\n",
      "  0.  0.  0.  0.  0.  0.  0.  0.  0.  0.  0.  0.  0.  0.  0.  0.  0.  0.\n",
      "  0.  0.  0.  0.  0.  0.  0.  0.  0.  0.  0.  0.  0.  0.  0.  0.  0.  0.\n",
      "  0.  0.  0.  0.  0.  0.  0.  0.  0.  0.]\n",
      "\n"
     ]
    }
   ],
   "source": [
    "# Push\n",
    "for i in range(5):\n",
    "    print stack_update(1.0, 1.0, np.eye(64)[i], sess)\n",
    "    print"
   ]
  },
  {
   "cell_type": "code",
   "execution_count": null,
   "metadata": {
    "collapsed": true
   },
   "outputs": [],
   "source": []
  }
 ],
 "metadata": {
  "kernelspec": {
   "display_name": "Python 2",
   "language": "python",
   "name": "python2"
  },
  "language_info": {
   "codemirror_mode": {
    "name": "ipython",
    "version": 2
   },
   "file_extension": ".py",
   "mimetype": "text/x-python",
   "name": "python",
   "nbconvert_exporter": "python",
   "pygments_lexer": "ipython2",
   "version": "2.7.12"
  }
 },
 "nbformat": 4,
 "nbformat_minor": 1
}
