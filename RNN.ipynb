{
 "cells": [
  {
   "cell_type": "code",
   "execution_count": 1,
   "metadata": {
    "collapsed": true
   },
   "outputs": [],
   "source": [
    "import tensorflow as tf\n",
    "import numpy as np"
   ]
  },
  {
   "cell_type": "code",
   "execution_count": 2,
   "metadata": {
    "collapsed": true
   },
   "outputs": [],
   "source": [
    "max_length  = 100\n",
    "vocab_size  = 2          # Input vocabulary\n",
    "hidden_size = 128\n",
    "seq_length  = 20\n",
    "batch_size  = 32"
   ]
  },
  {
   "cell_type": "code",
   "execution_count": 3,
   "metadata": {
    "collapsed": false
   },
   "outputs": [],
   "source": [
    "input = [tf.placeholder(tf.float32, shape=(None, vocab_size), name=\"inp%i\" % t) for t in range(seq_length)]\n",
    "label = tf.placeholder(tf.float32, shape=(None, 21), name=\"label\")"
   ]
  },
  {
   "cell_type": "code",
   "execution_count": 4,
   "metadata": {
    "collapsed": true
   },
   "outputs": [],
   "source": [
    "cell = tf.nn.rnn_cell.GRUCell(hidden_size)\n",
    "state = cell.zero_state(batch_size, tf.float32)\n",
    "outputs = []"
   ]
  },
  {
   "cell_type": "code",
   "execution_count": 5,
   "metadata": {
    "collapsed": false
   },
   "outputs": [],
   "source": [
    "with tf.variable_scope('rnn_unfolding') as varscope:\n",
    "    for input_ in input:\n",
    "        output, state = cell(input_, state)\n",
    "        outputs.append(output)\n",
    "        varscope.reuse_variables()"
   ]
  },
  {
   "cell_type": "code",
   "execution_count": 6,
   "metadata": {
    "collapsed": true
   },
   "outputs": [],
   "source": [
    "gpu_options = tf.GPUOptions(per_process_gpu_memory_fraction=0.2)\n",
    "sess = tf.Session(config=tf.ConfigProto(gpu_options=gpu_options))"
   ]
  },
  {
   "cell_type": "code",
   "execution_count": 7,
   "metadata": {
    "collapsed": false
   },
   "outputs": [],
   "source": [
    "# Attach MLP to last output\n",
    "W = tf.Variable(tf.random_normal((128, 21), stddev=0.01))\n",
    "b = tf.Variable(np.zeros((21,)), dtype=tf.float32)\n",
    "\n",
    "output = tf.sigmoid(tf.matmul(outputs[-1], W) + b)"
   ]
  },
  {
   "cell_type": "code",
   "execution_count": 8,
   "metadata": {
    "collapsed": true
   },
   "outputs": [],
   "source": [
    "# Loss\n",
    "clipped_output         = tf.clip_by_value(output, 1e-10, 1.0)\n",
    "clipped_1_minus_output = tf.clip_by_value(1 - output, 1e-10, 1.0)\n",
    "\n",
    "loss = -tf.reduce_sum(label * tf.log(clipped_output) + (1 - label) * tf.log(clipped_1_minus_output))\n",
    "accuracy = tf.reduce_mean(tf.cast(tf.equal(tf.argmax(output, 1), tf.argmax(label, 1)), tf.float32))"
   ]
  },
  {
   "cell_type": "code",
   "execution_count": 9,
   "metadata": {
    "collapsed": true
   },
   "outputs": [],
   "source": [
    "# Optimizer\n",
    "train_op = tf.train.AdamOptimizer().minimize(loss)"
   ]
  },
  {
   "cell_type": "code",
   "execution_count": 10,
   "metadata": {
    "collapsed": true
   },
   "outputs": [],
   "source": [
    "# Initialize\n",
    "sess.run(tf.initialize_all_variables())"
   ]
  },
  {
   "cell_type": "code",
   "execution_count": null,
   "metadata": {
    "collapsed": true
   },
   "outputs": [],
   "source": [
    "def one_hotify(vector, output_vocabulary_size):\n",
    "    # Create the result vector\n",
    "    vector_one_hot = np.zeros(list(vector.shape) + [output_vocabulary_size])\n",
    "    \n",
    "    # Use fancy indexing to activate positions\n",
    "    vector_one_hot[list(np.indices(vector.shape)) + [vector]] = 1\n",
    "    \n",
    "    return vector_one_hot"
   ]
  },
  {
   "cell_type": "code",
   "execution_count": null,
   "metadata": {
    "collapsed": false,
    "scrolled": true
   },
   "outputs": [
    {
     "name": "stdout",
     "output_type": "stream",
     "text": [
      "Iteration:   500 Loss: 111.0955 Accuracy: 0.17%\n",
      "Iteration:  1000 Loss: 106.4354 Accuracy: 0.17%\n",
      "Iteration:  1500 Loss: 103.1345 Accuracy: 0.18%\n",
      "Iteration:  2000 Loss: 93.3388 Accuracy: 0.29%\n",
      "Iteration:  2500 Loss: 81.8088 Accuracy: 0.40%\n",
      "Iteration:  3000 Loss: 71.2362 Accuracy: 0.50%\n",
      "Iteration:  3500 Loss: 62.8803 Accuracy: 0.56%\n",
      "Iteration:  4000 Loss: 56.0681 Accuracy: 0.61%\n",
      "Iteration:  4500 Loss: 50.4782 Accuracy: 0.65%\n",
      "Iteration:  5000 Loss: 46.0655 Accuracy: 0.68%\n",
      "Iteration:  5500 Loss: 42.3031 Accuracy: 0.71%\n",
      "Iteration:  6000 Loss: 39.0224 Accuracy: 0.73%\n",
      "Iteration:  6500 Loss: 36.1969 Accuracy: 0.75%\n",
      "Iteration:  7000 Loss: 33.7473 Accuracy: 0.77%\n",
      "Iteration:  7500 Loss: 31.8561 Accuracy: 0.78%\n",
      "Iteration:  8000 Loss: 29.9516 Accuracy: 0.80%\n",
      "Iteration:  8500 Loss: 28.2615 Accuracy: 0.81%\n",
      "Iteration:  9000 Loss: 26.7822 Accuracy: 0.82%\n",
      "Iteration:  9500 Loss: 25.5526 Accuracy: 0.83%\n",
      "Iteration: 10000 Loss: 24.3823 Accuracy: 0.84%\n"
     ]
    }
   ],
   "source": [
    "# Train\n",
    "losses     = []\n",
    "accuracies = []\n",
    "\n",
    "for iter_ in range(2 * 10 ** 4):\n",
    "    # Generate samples randomly\n",
    "    x_   = np.random.randint(0, 2, (batch_size, seq_length))\n",
    "    x_1h = one_hotify(x_, vocab_size)\n",
    "\n",
    "    y_   = np.sum(x_, 1)\n",
    "    y_1h = one_hotify(y_, seq_length + 1)   # because #_output_symbols = seq_length + 1\n",
    "    \n",
    "    # Calculate loss and backprop\n",
    "    feed_dict = {input[t]: x_1h[:,t,:] for t in range(seq_length)}\n",
    "    feed_dict.update({label: y_1h})\n",
    "    loss_t, acc_t, _ = sess.run((loss, accuracy, train_op), feed_dict)\n",
    "    \n",
    "    losses.append(loss_t)\n",
    "    accuracies.append(acc_t * 100)\n",
    "    \n",
    "    if iter_ % (5 * 10 ** 2) == 0 and iter_ > 0:\n",
    "        print 'Iteration: %5d Loss: %3.4f Accuracy: %3.2f%%' % (iter_, np.mean(losses), np.mean(accuracies))"
   ]
  }
 ],
 "metadata": {
  "kernelspec": {
   "display_name": "Python 2",
   "language": "python",
   "name": "python2"
  },
  "language_info": {
   "codemirror_mode": {
    "name": "ipython",
    "version": 2
   },
   "file_extension": ".py",
   "mimetype": "text/x-python",
   "name": "python",
   "nbconvert_exporter": "python",
   "pygments_lexer": "ipython2",
   "version": "2.7.12"
  }
 },
 "nbformat": 4,
 "nbformat_minor": 1
}
